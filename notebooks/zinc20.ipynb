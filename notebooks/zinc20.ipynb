{
 "cells": [
  {
   "cell_type": "markdown",
   "id": "2e56e85c",
   "metadata": {
    "papermill": {
     "duration": 0.007467,
     "end_time": "2024-02-01T19:22:27.094522",
     "exception": false,
     "start_time": "2024-02-01T19:22:27.087055",
     "status": "completed"
    },
    "tags": []
   },
   "source": [
    "# ZINC20 (700M) subset with similarity threshold"
   ]
  },
  {
   "cell_type": "markdown",
   "id": "3ab6f0bc",
   "metadata": {
    "papermill": {
     "duration": 0.005889,
     "end_time": "2024-02-01T19:22:27.107438",
     "exception": false,
     "start_time": "2024-02-01T19:22:27.101549",
     "status": "completed"
    },
    "tags": []
   },
   "source": [
    "This example shows using `OnlineDiversityPicker` to choose a diverse set of molecules from ZINC20, based on a Tanimoto distance threshold of >= 0.75 between any two molecules. The subset's exact size isn't predetermined, only the maximum size (picker capacity) to manage resources.\n",
    "\n",
    "The notebook covers handling large datasets unsuitable for in-memory loading. `OnlineDiversityPicker` operates online, scaling linearly with dataset size."
   ]
  },
  {
   "cell_type": "code",
   "execution_count": 1,
   "id": "22b338d4",
   "metadata": {
    "execution": {
     "iopub.execute_input": "2024-02-01T19:22:27.117438Z",
     "iopub.status.busy": "2024-02-01T19:22:27.117286Z",
     "iopub.status.idle": "2024-02-01T19:22:27.557073Z",
     "shell.execute_reply": "2024-02-01T19:22:27.556725Z"
    },
    "papermill": {
     "duration": 0.444859,
     "end_time": "2024-02-01T19:22:27.557993",
     "exception": false,
     "start_time": "2024-02-01T19:22:27.113134",
     "status": "completed"
    },
    "tags": []
   },
   "outputs": [],
   "source": [
    "import os\n",
    "from datetime import datetime\n",
    "\n",
    "import pandas as pd\n",
    "from tqdm.auto import tqdm\n",
    "\n",
    "from moll.pick import OnlineDiversityPicker\n",
    "from moll.small import Molecule\n",
    "from moll.utils import (\n",
    "    iter_lines,\n",
    "    iter_slices,\n",
    "    map_concurrently,\n",
    "    no_warnings,\n",
    "    unpack_arguments,\n",
    ")"
   ]
  },
  {
   "cell_type": "markdown",
   "id": "806fcdba",
   "metadata": {
    "papermill": {
     "duration": 0.00208,
     "end_time": "2024-02-01T19:22:27.562545",
     "exception": false,
     "start_time": "2024-02-01T19:22:27.560465",
     "status": "completed"
    },
    "tags": []
   },
   "source": [
    "Fingerprint properties"
   ]
  },
  {
   "cell_type": "code",
   "execution_count": 2,
   "id": "b2c1cbfa",
   "metadata": {
    "execution": {
     "iopub.execute_input": "2024-02-01T19:22:27.567557Z",
     "iopub.status.busy": "2024-02-01T19:22:27.567383Z",
     "iopub.status.idle": "2024-02-01T19:22:27.569040Z",
     "shell.execute_reply": "2024-02-01T19:22:27.568800Z"
    },
    "papermill": {
     "duration": 0.005219,
     "end_time": "2024-02-01T19:22:27.569981",
     "exception": false,
     "start_time": "2024-02-01T19:22:27.564762",
     "status": "completed"
    },
    "tags": []
   },
   "outputs": [],
   "source": [
    "FINGERPRINT_SIZE = 2048\n",
    "FINGERPRINT_RADIUS = 2\n",
    "FINGERPRINT_FOLD = 1024"
   ]
  },
  {
   "cell_type": "markdown",
   "id": "a58203ee",
   "metadata": {
    "papermill": {
     "duration": 0.002117,
     "end_time": "2024-02-01T19:22:27.575256",
     "exception": false,
     "start_time": "2024-02-01T19:22:27.573139",
     "status": "completed"
    },
    "tags": []
   },
   "source": [
    "Molecules in batch"
   ]
  },
  {
   "cell_type": "code",
   "execution_count": 3,
   "id": "8ad9d8e0",
   "metadata": {
    "execution": {
     "iopub.execute_input": "2024-02-01T19:22:27.579984Z",
     "iopub.status.busy": "2024-02-01T19:22:27.579882Z",
     "iopub.status.idle": "2024-02-01T19:22:27.581946Z",
     "shell.execute_reply": "2024-02-01T19:22:27.581617Z"
    },
    "papermill": {
     "duration": 0.005183,
     "end_time": "2024-02-01T19:22:27.582526",
     "exception": false,
     "start_time": "2024-02-01T19:22:27.577343",
     "status": "completed"
    },
    "tags": []
   },
   "outputs": [],
   "source": [
    "BATCH_SIZE = 30_000"
   ]
  },
  {
   "cell_type": "markdown",
   "id": "51469aa6",
   "metadata": {
    "papermill": {
     "duration": 0.002173,
     "end_time": "2024-02-01T19:22:27.586879",
     "exception": false,
     "start_time": "2024-02-01T19:22:27.584706",
     "status": "completed"
    },
    "tags": []
   },
   "source": [
    "Directory with SMILES files"
   ]
  },
  {
   "cell_type": "code",
   "execution_count": 4,
   "id": "e2090ca8",
   "metadata": {
    "execution": {
     "iopub.execute_input": "2024-02-01T19:22:27.592180Z",
     "iopub.status.busy": "2024-02-01T19:22:27.591893Z",
     "iopub.status.idle": "2024-02-01T19:22:27.593963Z",
     "shell.execute_reply": "2024-02-01T19:22:27.593660Z"
    },
    "papermill": {
     "duration": 0.005428,
     "end_time": "2024-02-01T19:22:27.594631",
     "exception": false,
     "start_time": "2024-02-01T19:22:27.589203",
     "status": "completed"
    },
    "tags": []
   },
   "outputs": [],
   "source": [
    "GLOB = \"/data/zinc-smiles/*.smi\""
   ]
  },
  {
   "cell_type": "markdown",
   "id": "22a23ff3",
   "metadata": {
    "papermill": {
     "duration": 0.002069,
     "end_time": "2024-02-01T19:22:27.598888",
     "exception": false,
     "start_time": "2024-02-01T19:22:27.596819",
     "status": "completed"
    },
    "tags": []
   },
   "source": [
    "Number of parallel jobs"
   ]
  },
  {
   "cell_type": "code",
   "execution_count": 5,
   "id": "ec41989d",
   "metadata": {
    "execution": {
     "iopub.execute_input": "2024-02-01T19:22:27.603757Z",
     "iopub.status.busy": "2024-02-01T19:22:27.603648Z",
     "iopub.status.idle": "2024-02-01T19:22:27.606952Z",
     "shell.execute_reply": "2024-02-01T19:22:27.606659Z"
    },
    "papermill": {
     "duration": 0.006505,
     "end_time": "2024-02-01T19:22:27.607610",
     "exception": false,
     "start_time": "2024-02-01T19:22:27.601105",
     "status": "completed"
    },
    "tags": []
   },
   "outputs": [
    {
     "data": {
      "text/plain": [
       "20"
      ]
     },
     "execution_count": 5,
     "metadata": {},
     "output_type": "execute_result"
    }
   ],
   "source": [
    "N_WORKERS = os.cpu_count() - 4  # leave some cores free\n",
    "N_WORKERS"
   ]
  },
  {
   "cell_type": "code",
   "execution_count": 6,
   "id": "a342663f",
   "metadata": {
    "execution": {
     "iopub.execute_input": "2024-02-01T19:22:27.612391Z",
     "iopub.status.busy": "2024-02-01T19:22:27.612282Z",
     "iopub.status.idle": "2024-02-01T19:22:27.613968Z",
     "shell.execute_reply": "2024-02-01T19:22:27.613679Z"
    },
    "papermill": {
     "duration": 0.004764,
     "end_time": "2024-02-01T19:22:27.614547",
     "exception": false,
     "start_time": "2024-02-01T19:22:27.609783",
     "status": "completed"
    },
    "tags": []
   },
   "outputs": [],
   "source": [
    "N_LINES = sum(1 for f in SMILES_FILES for _ in f.read_text().splitlines())"
   ]
  },
  {
   "cell_type": "code",
   "execution_count": 7,
   "id": "17d1cbba",
   "metadata": {
    "execution": {
     "iopub.execute_input": "2024-02-01T19:22:27.619567Z",
     "iopub.status.busy": "2024-02-01T19:22:27.619333Z",
     "iopub.status.idle": "2024-02-01T19:22:27.621112Z",
     "shell.execute_reply": "2024-02-01T19:22:27.620753Z"
    },
    "papermill": {
     "duration": 0.004805,
     "end_time": "2024-02-01T19:22:27.621685",
     "exception": false,
     "start_time": "2024-02-01T19:22:27.616880",
     "status": "completed"
    },
    "tags": []
   },
   "outputs": [],
   "source": [
    "N_BATCHES = N_LINES // BATCH_SIZE"
   ]
  },
  {
   "cell_type": "markdown",
   "id": "118254ef",
   "metadata": {
    "papermill": {
     "duration": 0.002099,
     "end_time": "2024-02-01T19:22:27.625938",
     "exception": false,
     "start_time": "2024-02-01T19:22:27.623839",
     "status": "completed"
    },
    "tags": []
   },
   "source": [
    "## Pick molecules"
   ]
  },
  {
   "cell_type": "markdown",
   "id": "de84c74d",
   "metadata": {},
   "source": [
    "Define picker object:"
   ]
  },
  {
   "cell_type": "code",
   "execution_count": 8,
   "id": "4e60ab3b",
   "metadata": {
    "execution": {
     "iopub.execute_input": "2024-02-01T19:22:27.630790Z",
     "iopub.status.busy": "2024-02-01T19:22:27.630579Z",
     "iopub.status.idle": "2024-02-01T19:22:27.634365Z",
     "shell.execute_reply": "2024-02-01T19:22:27.634002Z"
    },
    "papermill": {
     "duration": 0.006803,
     "end_time": "2024-02-01T19:22:27.634949",
     "exception": false,
     "start_time": "2024-02-01T19:22:27.628146",
     "status": "completed"
    },
    "tags": []
   },
   "outputs": [],
   "source": [
    "picker = OnlineDiversityPicker(\n",
    "    capacity=50_000,  # limit the number of picked molecules\n",
    "    k_neighbors=300,\n",
    "    similarity_fn=\"one_minus_tanimoto\",\n",
    "    threshold=0.75,  # distance threshold\n",
    "    dtype=bool,\n",
    ")"
   ]
  },
  {
   "cell_type": "markdown",
   "id": "90a8a20f",
   "metadata": {},
   "source": [
    "Define a function to load molecule representations from SMILES file lines:"
   ]
  },
  {
   "cell_type": "code",
   "execution_count": 9,
   "id": "7b34d5dc",
   "metadata": {
    "execution": {
     "iopub.execute_input": "2024-02-01T19:22:27.639550Z",
     "iopub.status.busy": "2024-02-01T19:22:27.639452Z",
     "iopub.status.idle": "2024-02-01T19:22:27.641460Z",
     "shell.execute_reply": "2024-02-01T19:22:27.641200Z"
    },
    "papermill": {
     "duration": 0.004975,
     "end_time": "2024-02-01T19:22:27.642018",
     "exception": false,
     "start_time": "2024-02-01T19:22:27.637043",
     "status": "completed"
    },
    "tags": []
   },
   "outputs": [],
   "source": [
    "@unpack_arguments\n",
    "@no_warnings\n",
    "def processed_line(source, line_no, line):\n",
    "    smiles, _, id = line.partition(\" \")\n",
    "    fp = Molecule.from_smiles(line).to_fp(\n",
    "        \"morgan\",\n",
    "        radius=FINGERPRINT_RADIUS,\n",
    "        size=FINGERPRINT_SIZE,\n",
    "        fold_size=FINGERPRINT_FOLD,\n",
    "    )\n",
    "    label = (source, line_no, id)\n",
    "    return fp, label"
   ]
  },
  {
   "cell_type": "markdown",
   "id": "38ab7e44",
   "metadata": {},
   "source": [
    "Use built-in data utilities to load data parallelly:"
   ]
  },
  {
   "cell_type": "code",
   "execution_count": 10,
   "id": "6760f63d",
   "metadata": {
    "execution": {
     "iopub.execute_input": "2024-02-01T19:22:27.646672Z",
     "iopub.status.busy": "2024-02-01T19:22:27.646574Z",
     "iopub.status.idle": "2024-02-01T19:22:27.648506Z",
     "shell.execute_reply": "2024-02-01T19:22:27.648228Z"
    },
    "papermill": {
     "duration": 0.004925,
     "end_time": "2024-02-01T19:22:27.649069",
     "exception": false,
     "start_time": "2024-02-01T19:22:27.644144",
     "status": "completed"
    },
    "tags": []
   },
   "outputs": [],
   "source": [
    "# Iterate over lines\n",
    "lines_iterator = iter_lines(\n",
    "    GLOB,  # .smi files glob pattern\n",
    "    skip_rows=1,  # skip header\n",
    "    source_fn=\"stem\",  # return file stem as file name\n",
    ")\n",
    "\n",
    "# Parallelize lines processing\n",
    "map_iterator = map_concurrently(\n",
    "    processed_line,  # function to apply to each line\n",
    "    lines_iterator,  # iterator over lines\n",
    "    proc=True,  # use multiprocessing\n",
    "    n_workers=N_WORKERS,  # number of workers\n",
    "    exception_fn=\"ignore\",  # ignore exceptions\n",
    ")\n",
    "\n",
    "# Combine processed lines into batches\n",
    "batches_iterator = iter_slices(\n",
    "    map_iterator,  # iterator over processed lines\n",
    "    BATCH_SIZE,  # collect batches\n",
    "    transform_fn=\"transpose\",  # transpose batches to (fps, labels)\n",
    ")"
   ]
  },
  {
   "cell_type": "markdown",
   "id": "9165ca7f",
   "metadata": {},
   "source": [
    "Start the picking process:"
   ]
  },
  {
   "cell_type": "code",
   "execution_count": 11,
   "id": "d16007c2",
   "metadata": {
    "execution": {
     "iopub.execute_input": "2024-02-01T19:22:27.653857Z",
     "iopub.status.busy": "2024-02-01T19:22:27.653657Z",
     "iopub.status.idle": "2024-02-02T13:44:53.375960Z",
     "shell.execute_reply": "2024-02-02T13:44:53.375695Z"
    },
    "papermill": {
     "duration": 66145.725617,
     "end_time": "2024-02-02T13:44:53.376782",
     "exception": false,
     "start_time": "2024-02-01T19:22:27.651165",
     "status": "completed"
    },
    "tags": []
   },
   "outputs": [
    {
     "data": {
      "application/vnd.jupyter.widget-view+json": {
       "model_id": "799d42c8adbc491096949359584d3112",
       "version_major": 2,
       "version_minor": 0
      },
      "text/plain": [
       "  0%|          | 0/23333 [00:00<?, ?it/s]"
      ]
     },
     "metadata": {},
     "output_type": "display_data"
    },
    {
     "name": "stdout",
     "output_type": "stream",
     "text": [
      "CPU times: user 1d 4h 25min 6s, sys: 2h 19min 59s, total: 1d 6h 45min 6s\n",
      "Wall time: 18h 22min 25s\n"
     ]
    }
   ],
   "source": [
    "%%time\n",
    "for vectors, labels in tqdm(batches_iterator, total=N_BATCHES):\n",
    "    picker.update(vectors, labels)"
   ]
  },
  {
   "cell_type": "markdown",
   "id": "e8295e1a",
   "metadata": {
    "papermill": {
     "duration": 0.00223,
     "end_time": "2024-02-02T13:44:53.381453",
     "exception": false,
     "start_time": "2024-02-02T13:44:53.379223",
     "status": "completed"
    },
    "tags": []
   },
   "source": [
    "## Save results"
   ]
  },
  {
   "cell_type": "markdown",
   "id": "45e2d0ba",
   "metadata": {
    "papermill": {
     "duration": 0.002108,
     "end_time": "2024-02-02T13:44:53.385848",
     "exception": false,
     "start_time": "2024-02-02T13:44:53.383740",
     "status": "completed"
    },
    "tags": []
   },
   "source": [
    "Picked molecules are:"
   ]
  },
  {
   "cell_type": "code",
   "execution_count": 12,
   "id": "09189bfb",
   "metadata": {
    "execution": {
     "iopub.execute_input": "2024-02-02T13:44:53.390967Z",
     "iopub.status.busy": "2024-02-02T13:44:53.390862Z",
     "iopub.status.idle": "2024-02-02T13:44:53.402940Z",
     "shell.execute_reply": "2024-02-02T13:44:53.402722Z"
    },
    "papermill": {
     "duration": 0.015632,
     "end_time": "2024-02-02T13:44:53.403738",
     "exception": false,
     "start_time": "2024-02-02T13:44:53.388106",
     "status": "completed"
    },
    "tags": []
   },
   "outputs": [
    {
     "data": {
      "text/html": [
       "<div>\n",
       "<style scoped>\n",
       "    .dataframe tbody tr th:only-of-type {\n",
       "        vertical-align: middle;\n",
       "    }\n",
       "\n",
       "    .dataframe tbody tr th {\n",
       "        vertical-align: top;\n",
       "    }\n",
       "\n",
       "    .dataframe thead th {\n",
       "        text-align: right;\n",
       "    }\n",
       "</style>\n",
       "<table border=\"1\" class=\"dataframe\">\n",
       "  <thead>\n",
       "    <tr style=\"text-align: right;\">\n",
       "      <th></th>\n",
       "      <th>file_stem</th>\n",
       "      <th>line_no</th>\n",
       "      <th>id</th>\n",
       "    </tr>\n",
       "  </thead>\n",
       "  <tbody>\n",
       "    <tr>\n",
       "      <th>0</th>\n",
       "      <td>AAABMO</td>\n",
       "      <td>1</td>\n",
       "      <td>5273827</td>\n",
       "    </tr>\n",
       "    <tr>\n",
       "      <th>1</th>\n",
       "      <td>AAABMO</td>\n",
       "      <td>2</td>\n",
       "      <td>380227274</td>\n",
       "    </tr>\n",
       "    <tr>\n",
       "      <th>2</th>\n",
       "      <td>AAABMO</td>\n",
       "      <td>3</td>\n",
       "      <td>215393865</td>\n",
       "    </tr>\n",
       "    <tr>\n",
       "      <th>3</th>\n",
       "      <td>AAABMO</td>\n",
       "      <td>5</td>\n",
       "      <td>6003141</td>\n",
       "    </tr>\n",
       "    <tr>\n",
       "      <th>4</th>\n",
       "      <td>AAABMO</td>\n",
       "      <td>7</td>\n",
       "      <td>38363127</td>\n",
       "    </tr>\n",
       "    <tr>\n",
       "      <th>...</th>\n",
       "      <td>...</td>\n",
       "      <td>...</td>\n",
       "      <td>...</td>\n",
       "    </tr>\n",
       "    <tr>\n",
       "      <th>20304</th>\n",
       "      <td>JJEBRN</td>\n",
       "      <td>4672</td>\n",
       "      <td>ZINC000012654104</td>\n",
       "    </tr>\n",
       "    <tr>\n",
       "      <th>20305</th>\n",
       "      <td>JJEBRO</td>\n",
       "      <td>1</td>\n",
       "      <td>ZINC000057291984</td>\n",
       "    </tr>\n",
       "    <tr>\n",
       "      <th>20306</th>\n",
       "      <td>JJEBRO</td>\n",
       "      <td>26</td>\n",
       "      <td>ZINC000016779476</td>\n",
       "    </tr>\n",
       "    <tr>\n",
       "      <th>20307</th>\n",
       "      <td>JJEDMN</td>\n",
       "      <td>56</td>\n",
       "      <td>ZINC001164728887</td>\n",
       "    </tr>\n",
       "    <tr>\n",
       "      <th>20308</th>\n",
       "      <td>JJEDRN</td>\n",
       "      <td>4330</td>\n",
       "      <td>ZINC001464591504</td>\n",
       "    </tr>\n",
       "  </tbody>\n",
       "</table>\n",
       "<p>20309 rows × 3 columns</p>\n",
       "</div>"
      ],
      "text/plain": [
       "      file_stem  line_no                id\n",
       "0        AAABMO        1           5273827\n",
       "1        AAABMO        2         380227274\n",
       "2        AAABMO        3         215393865\n",
       "3        AAABMO        5           6003141\n",
       "4        AAABMO        7          38363127\n",
       "...         ...      ...               ...\n",
       "20304    JJEBRN     4672  ZINC000012654104\n",
       "20305    JJEBRO        1  ZINC000057291984\n",
       "20306    JJEBRO       26  ZINC000016779476\n",
       "20307    JJEDMN       56  ZINC001164728887\n",
       "20308    JJEDRN     4330  ZINC001464591504\n",
       "\n",
       "[20309 rows x 3 columns]"
      ]
     },
     "execution_count": 12,
     "metadata": {},
     "output_type": "execute_result"
    }
   ],
   "source": [
    "df = pd.DataFrame(picker.labels, columns=[\"file_stem\", \"line_no\", \"id\"])\n",
    "df"
   ]
  },
  {
   "cell_type": "markdown",
   "id": "170531b6",
   "metadata": {
    "papermill": {
     "duration": 0.002273,
     "end_time": "2024-02-02T13:44:53.408354",
     "exception": false,
     "start_time": "2024-02-02T13:44:53.406081",
     "status": "completed"
    },
    "tags": []
   },
   "source": [
    "Save the results to a CSV file."
   ]
  },
  {
   "cell_type": "code",
   "execution_count": 13,
   "id": "4812d2d6",
   "metadata": {
    "execution": {
     "iopub.execute_input": "2024-02-02T13:44:53.413483Z",
     "iopub.status.busy": "2024-02-02T13:44:53.413370Z",
     "iopub.status.idle": "2024-02-02T13:44:53.415454Z",
     "shell.execute_reply": "2024-02-02T13:44:53.415255Z"
    },
    "papermill": {
     "duration": 0.005508,
     "end_time": "2024-02-02T13:44:53.416214",
     "exception": false,
     "start_time": "2024-02-02T13:44:53.410706",
     "status": "completed"
    },
    "tags": []
   },
   "outputs": [
    {
     "data": {
      "text/plain": [
       "'20240202T144453Z'"
      ]
     },
     "execution_count": 13,
     "metadata": {},
     "output_type": "execute_result"
    }
   ],
   "source": [
    "timestamp = datetime.now().strftime(\"%Y%m%dT%H%M%SZ\")\n",
    "timestamp"
   ]
  },
  {
   "cell_type": "code",
   "execution_count": 14,
   "id": "ef29804b",
   "metadata": {
    "execution": {
     "iopub.execute_input": "2024-02-02T13:44:53.421420Z",
     "iopub.status.busy": "2024-02-02T13:44:53.421316Z",
     "iopub.status.idle": "2024-02-02T13:44:53.436350Z",
     "shell.execute_reply": "2024-02-02T13:44:53.436026Z"
    },
    "papermill": {
     "duration": 0.018591,
     "end_time": "2024-02-02T13:44:53.437155",
     "exception": false,
     "start_time": "2024-02-02T13:44:53.418564",
     "status": "completed"
    },
    "tags": []
   },
   "outputs": [],
   "source": [
    "df.to_csv(\n",
    "    f\"zinc20-50K-{timestamp}.csv\",\n",
    "    sep=\" \",\n",
    "    index=False,\n",
    "    mode=\"x\",  # fail if file exists to avoid overwriting\n",
    ")"
   ]
  },
  {
   "cell_type": "markdown",
   "id": "23dfc7a3",
   "metadata": {
    "papermill": {
     "duration": 0.002258,
     "end_time": "2024-02-02T13:44:53.441774",
     "exception": false,
     "start_time": "2024-02-02T13:44:53.439516",
     "status": "completed"
    },
    "tags": []
   },
   "source": [
    "## What's next?"
   ]
  },
  {
   "cell_type": "markdown",
   "id": "861ee810",
   "metadata": {
    "papermill": {
     "duration": 0.002218,
     "end_time": "2024-02-02T13:44:53.446364",
     "exception": false,
     "start_time": "2024-02-02T13:44:53.444146",
     "status": "completed"
    },
    "tags": []
   },
   "source": [
    "Strategy could be improved by\n",
    "\n",
    "+ shuffling the molecules before picking to avoid selecting similar molecules consecutively, which ensures better picker initialization;\n",
    "+ lowering the threshold to select more molecules, which can (theoretically) increase diversity, then picker can be run again with smaller capacity to remove the excess;\n",
    "+ decreasing the picker capacity if working with a non-diverse dataset, which can also increase speed."
   ]
  }
 ],
 "metadata": {
  "kernelspec": {
   "display_name": ".venv",
   "language": "python",
   "name": "python3"
  },
  "language_info": {
   "codemirror_mode": {
    "name": "ipython",
    "version": 3
   },
   "file_extension": ".py",
   "mimetype": "text/x-python",
   "name": "python",
   "nbconvert_exporter": "python",
   "pygments_lexer": "ipython3",
   "version": "3.11.7"
  },
  "papermill": {
   "default_parameters": {},
   "duration": 66147.664366,
   "end_time": "2024-02-02T13:44:54.105988",
   "environment_variables": {},
   "exception": null,
   "input_path": "zinc20.ipynb",
   "output_path": "zinc20.ipynb",
   "parameters": {},
   "start_time": "2024-02-01T19:22:26.441622",
   "version": "2.5.0"
  },
  "widgets": {
   "application/vnd.jupyter.widget-state+json": {
    "state": {
     "001a6333d20b4adc9004e4191ef1696a": {
      "model_module": "@jupyter-widgets/controls",
      "model_module_version": "2.0.0",
      "model_name": "HTMLStyleModel",
      "state": {
       "_model_module": "@jupyter-widgets/controls",
       "_model_module_version": "2.0.0",
       "_model_name": "HTMLStyleModel",
       "_view_count": null,
       "_view_module": "@jupyter-widgets/base",
       "_view_module_version": "2.0.0",
       "_view_name": "StyleView",
       "background": null,
       "description_width": "",
       "font_size": null,
       "text_color": null
      }
     },
     "1eb62526aa0f4aa2abc4c2a6fbe33429": {
      "model_module": "@jupyter-widgets/controls",
      "model_module_version": "2.0.0",
      "model_name": "FloatProgressModel",
      "state": {
       "_dom_classes": [],
       "_model_module": "@jupyter-widgets/controls",
       "_model_module_version": "2.0.0",
       "_model_name": "FloatProgressModel",
       "_view_count": null,
       "_view_module": "@jupyter-widgets/controls",
       "_view_module_version": "2.0.0",
       "_view_name": "ProgressView",
       "bar_style": "danger",
       "description": "",
       "description_allow_html": false,
       "layout": "IPY_MODEL_edc6f629daa94a5da243951a55b83a79",
       "max": 23333,
       "min": 0,
       "orientation": "horizontal",
       "style": "IPY_MODEL_8bdef46f6c10465c84b1ffbc4931d392",
       "tabbable": null,
       "tooltip": null,
       "value": 23148
      }
     },
     "32963e7507b94328ae17899188c780ac": {
      "model_module": "@jupyter-widgets/base",
      "model_module_version": "2.0.0",
      "model_name": "LayoutModel",
      "state": {
       "_model_module": "@jupyter-widgets/base",
       "_model_module_version": "2.0.0",
       "_model_name": "LayoutModel",
       "_view_count": null,
       "_view_module": "@jupyter-widgets/base",
       "_view_module_version": "2.0.0",
       "_view_name": "LayoutView",
       "align_content": null,
       "align_items": null,
       "align_self": null,
       "border_bottom": null,
       "border_left": null,
       "border_right": null,
       "border_top": null,
       "bottom": null,
       "display": null,
       "flex": null,
       "flex_flow": null,
       "grid_area": null,
       "grid_auto_columns": null,
       "grid_auto_flow": null,
       "grid_auto_rows": null,
       "grid_column": null,
       "grid_gap": null,
       "grid_row": null,
       "grid_template_areas": null,
       "grid_template_columns": null,
       "grid_template_rows": null,
       "height": null,
       "justify_content": null,
       "justify_items": null,
       "left": null,
       "margin": null,
       "max_height": null,
       "max_width": null,
       "min_height": null,
       "min_width": null,
       "object_fit": null,
       "object_position": null,
       "order": null,
       "overflow": null,
       "padding": null,
       "right": null,
       "top": null,
       "visibility": null,
       "width": null
      }
     },
     "43b956bae8d0404fa1004d1ebce340bc": {
      "model_module": "@jupyter-widgets/controls",
      "model_module_version": "2.0.0",
      "model_name": "HTMLModel",
      "state": {
       "_dom_classes": [],
       "_model_module": "@jupyter-widgets/controls",
       "_model_module_version": "2.0.0",
       "_model_name": "HTMLModel",
       "_view_count": null,
       "_view_module": "@jupyter-widgets/controls",
       "_view_module_version": "2.0.0",
       "_view_name": "HTMLView",
       "description": "",
       "description_allow_html": false,
       "layout": "IPY_MODEL_32963e7507b94328ae17899188c780ac",
       "placeholder": "​",
       "style": "IPY_MODEL_001a6333d20b4adc9004e4191ef1696a",
       "tabbable": null,
       "tooltip": null,
       "value": " 99%"
      }
     },
     "5e645f20d5f1499c882eb044b99361ef": {
      "model_module": "@jupyter-widgets/base",
      "model_module_version": "2.0.0",
      "model_name": "LayoutModel",
      "state": {
       "_model_module": "@jupyter-widgets/base",
       "_model_module_version": "2.0.0",
       "_model_name": "LayoutModel",
       "_view_count": null,
       "_view_module": "@jupyter-widgets/base",
       "_view_module_version": "2.0.0",
       "_view_name": "LayoutView",
       "align_content": null,
       "align_items": null,
       "align_self": null,
       "border_bottom": null,
       "border_left": null,
       "border_right": null,
       "border_top": null,
       "bottom": null,
       "display": null,
       "flex": null,
       "flex_flow": null,
       "grid_area": null,
       "grid_auto_columns": null,
       "grid_auto_flow": null,
       "grid_auto_rows": null,
       "grid_column": null,
       "grid_gap": null,
       "grid_row": null,
       "grid_template_areas": null,
       "grid_template_columns": null,
       "grid_template_rows": null,
       "height": null,
       "justify_content": null,
       "justify_items": null,
       "left": null,
       "margin": null,
       "max_height": null,
       "max_width": null,
       "min_height": null,
       "min_width": null,
       "object_fit": null,
       "object_position": null,
       "order": null,
       "overflow": null,
       "padding": null,
       "right": null,
       "top": null,
       "visibility": null,
       "width": null
      }
     },
     "799d42c8adbc491096949359584d3112": {
      "model_module": "@jupyter-widgets/controls",
      "model_module_version": "2.0.0",
      "model_name": "HBoxModel",
      "state": {
       "_dom_classes": [],
       "_model_module": "@jupyter-widgets/controls",
       "_model_module_version": "2.0.0",
       "_model_name": "HBoxModel",
       "_view_count": null,
       "_view_module": "@jupyter-widgets/controls",
       "_view_module_version": "2.0.0",
       "_view_name": "HBoxView",
       "box_style": "",
       "children": [
        "IPY_MODEL_43b956bae8d0404fa1004d1ebce340bc",
        "IPY_MODEL_1eb62526aa0f4aa2abc4c2a6fbe33429",
        "IPY_MODEL_fcebf3151f2e48a987846b1d368bb0b6"
       ],
       "layout": "IPY_MODEL_e2b077687e154a68b341c151f7831709",
       "tabbable": null,
       "tooltip": null
      }
     },
     "8bdef46f6c10465c84b1ffbc4931d392": {
      "model_module": "@jupyter-widgets/controls",
      "model_module_version": "2.0.0",
      "model_name": "ProgressStyleModel",
      "state": {
       "_model_module": "@jupyter-widgets/controls",
       "_model_module_version": "2.0.0",
       "_model_name": "ProgressStyleModel",
       "_view_count": null,
       "_view_module": "@jupyter-widgets/base",
       "_view_module_version": "2.0.0",
       "_view_name": "StyleView",
       "bar_color": null,
       "description_width": ""
      }
     },
     "99e14f3ff4724dc2b597847d9979cd97": {
      "model_module": "@jupyter-widgets/controls",
      "model_module_version": "2.0.0",
      "model_name": "HTMLStyleModel",
      "state": {
       "_model_module": "@jupyter-widgets/controls",
       "_model_module_version": "2.0.0",
       "_model_name": "HTMLStyleModel",
       "_view_count": null,
       "_view_module": "@jupyter-widgets/base",
       "_view_module_version": "2.0.0",
       "_view_name": "StyleView",
       "background": null,
       "description_width": "",
       "font_size": null,
       "text_color": null
      }
     },
     "e2b077687e154a68b341c151f7831709": {
      "model_module": "@jupyter-widgets/base",
      "model_module_version": "2.0.0",
      "model_name": "LayoutModel",
      "state": {
       "_model_module": "@jupyter-widgets/base",
       "_model_module_version": "2.0.0",
       "_model_name": "LayoutModel",
       "_view_count": null,
       "_view_module": "@jupyter-widgets/base",
       "_view_module_version": "2.0.0",
       "_view_name": "LayoutView",
       "align_content": null,
       "align_items": null,
       "align_self": null,
       "border_bottom": null,
       "border_left": null,
       "border_right": null,
       "border_top": null,
       "bottom": null,
       "display": null,
       "flex": null,
       "flex_flow": null,
       "grid_area": null,
       "grid_auto_columns": null,
       "grid_auto_flow": null,
       "grid_auto_rows": null,
       "grid_column": null,
       "grid_gap": null,
       "grid_row": null,
       "grid_template_areas": null,
       "grid_template_columns": null,
       "grid_template_rows": null,
       "height": null,
       "justify_content": null,
       "justify_items": null,
       "left": null,
       "margin": null,
       "max_height": null,
       "max_width": null,
       "min_height": null,
       "min_width": null,
       "object_fit": null,
       "object_position": null,
       "order": null,
       "overflow": null,
       "padding": null,
       "right": null,
       "top": null,
       "visibility": null,
       "width": null
      }
     },
     "edc6f629daa94a5da243951a55b83a79": {
      "model_module": "@jupyter-widgets/base",
      "model_module_version": "2.0.0",
      "model_name": "LayoutModel",
      "state": {
       "_model_module": "@jupyter-widgets/base",
       "_model_module_version": "2.0.0",
       "_model_name": "LayoutModel",
       "_view_count": null,
       "_view_module": "@jupyter-widgets/base",
       "_view_module_version": "2.0.0",
       "_view_name": "LayoutView",
       "align_content": null,
       "align_items": null,
       "align_self": null,
       "border_bottom": null,
       "border_left": null,
       "border_right": null,
       "border_top": null,
       "bottom": null,
       "display": null,
       "flex": null,
       "flex_flow": null,
       "grid_area": null,
       "grid_auto_columns": null,
       "grid_auto_flow": null,
       "grid_auto_rows": null,
       "grid_column": null,
       "grid_gap": null,
       "grid_row": null,
       "grid_template_areas": null,
       "grid_template_columns": null,
       "grid_template_rows": null,
       "height": null,
       "justify_content": null,
       "justify_items": null,
       "left": null,
       "margin": null,
       "max_height": null,
       "max_width": null,
       "min_height": null,
       "min_width": null,
       "object_fit": null,
       "object_position": null,
       "order": null,
       "overflow": null,
       "padding": null,
       "right": null,
       "top": null,
       "visibility": null,
       "width": null
      }
     },
     "fcebf3151f2e48a987846b1d368bb0b6": {
      "model_module": "@jupyter-widgets/controls",
      "model_module_version": "2.0.0",
      "model_name": "HTMLModel",
      "state": {
       "_dom_classes": [],
       "_model_module": "@jupyter-widgets/controls",
       "_model_module_version": "2.0.0",
       "_model_name": "HTMLModel",
       "_view_count": null,
       "_view_module": "@jupyter-widgets/controls",
       "_view_module_version": "2.0.0",
       "_view_name": "HTMLView",
       "description": "",
       "description_allow_html": false,
       "layout": "IPY_MODEL_5e645f20d5f1499c882eb044b99361ef",
       "placeholder": "​",
       "style": "IPY_MODEL_99e14f3ff4724dc2b597847d9979cd97",
       "tabbable": null,
       "tooltip": null,
       "value": " 23148/23333 [18:22:25&lt;07:02,  2.28s/it]"
      }
     }
    },
    "version_major": 2,
    "version_minor": 0
   }
  }
 },
 "nbformat": 4,
 "nbformat_minor": 5
}
