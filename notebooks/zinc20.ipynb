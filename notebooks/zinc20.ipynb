{
 "cells": [
  {
   "cell_type": "markdown",
   "metadata": {},
   "source": [
    "# ZINC20 (700M) subset with similarity threshold"
   ]
  },
  {
   "cell_type": "markdown",
   "metadata": {},
   "source": [
    "This notebook demonstrates how to use the `OnlineDiversityPicker` class to select a diverse subset of molecules from the ZINC20 database. It ensures that the Tanimoto distance, defined as \n",
    "\n",
    "$$ \\text{[Tanimoto distance]} = 1 - \\text{[Tanimoto coefficient]}, $$\n",
    "\n",
    "between any two molecules is at least 0.75. The exact number of molecules in the subset is not fixed in advance. The user specifies the maximum size of the subset according to their computational resources and the desired processing speed.\n",
    "\n",
    "Moreover, the notebook presents methods for managing large datasets that cannot be loaded into memory. The `OnlineDiversityPicker` class is built to process large datasets by working in an online manner and demonstrates linear scaling with dataset size."
   ]
  },
  {
   "cell_type": "code",
   "execution_count": 1,
   "metadata": {},
   "outputs": [],
   "source": [
    "import os\n",
    "import warnings\n",
    "from concurrent.futures import ProcessPoolExecutor\n",
    "from pathlib import Path\n",
    "\n",
    "import jax.numpy as jnp\n",
    "import matplotlib.pyplot as plt\n",
    "import numpy as np\n",
    "import pandas as pd\n",
    "import seaborn as sns\n",
    "from rdkit import RDLogger\n",
    "from rdkit.Chem import AllChem as Chem\n",
    "from rdkit.Chem import rdFingerprintGenerator\n",
    "from torch.utils.data import DataLoader, Dataset\n",
    "from tqdm.auto import tqdm\n",
    "\n",
    "from moll.metrics import one_minus_tanimoto\n",
    "from moll.picking import OnlineDiversityPicker\n",
    "from moll.utils import group_files_by_size"
   ]
  },
  {
   "cell_type": "markdown",
   "metadata": {},
   "source": [
    "Warnings are ignored"
   ]
  },
  {
   "cell_type": "code",
   "execution_count": 2,
   "metadata": {},
   "outputs": [],
   "source": [
    "warnings.filterwarnings(\"ignore\")\n",
    "RDLogger.DisableLog(\"rdApp.*\")"
   ]
  },
  {
   "cell_type": "markdown",
   "metadata": {},
   "source": [
    "Fingerprint properties"
   ]
  },
  {
   "cell_type": "code",
   "execution_count": 3,
   "metadata": {},
   "outputs": [],
   "source": [
    "FINGERPRINT_SIZE = 2048\n",
    "FINGERPRINT_RADIUS = 2\n",
    "FINGERPRINT_FOLD = 2"
   ]
  },
  {
   "cell_type": "markdown",
   "metadata": {},
   "source": [
    "Molecules in batch"
   ]
  },
  {
   "cell_type": "code",
   "execution_count": 4,
   "metadata": {},
   "outputs": [],
   "source": [
    "BATCH_SIZE = 30_000"
   ]
  },
  {
   "cell_type": "markdown",
   "metadata": {},
   "source": [
    "Directory with SMILES files"
   ]
  },
  {
   "cell_type": "code",
   "execution_count": 5,
   "metadata": {},
   "outputs": [],
   "source": [
    "ROOT_DIR = \"/data/zinc-smiles/\""
   ]
  },
  {
   "cell_type": "markdown",
   "metadata": {},
   "source": [
    "Number of parallel jobs"
   ]
  },
  {
   "cell_type": "code",
   "execution_count": 6,
   "metadata": {},
   "outputs": [
    {
     "data": {
      "text/plain": [
       "20"
      ]
     },
     "execution_count": 6,
     "metadata": {},
     "output_type": "execute_result"
    }
   ],
   "source": [
    "N_WORKERS = os.cpu_count() - 4  # leave some cores free\n",
    "N_WORKERS"
   ]
  },
  {
   "cell_type": "markdown",
   "metadata": {},
   "source": [
    "## Analyze file sizes and number of molecules"
   ]
  },
  {
   "cell_type": "code",
   "execution_count": 7,
   "metadata": {},
   "outputs": [
    {
     "data": {
      "text/plain": [
       "10456"
      ]
     },
     "execution_count": 7,
     "metadata": {},
     "output_type": "execute_result"
    }
   ],
   "source": [
    "SMILES_FILES = list(Path(ROOT_DIR).glob(\"*.smi\"))\n",
    "N_SMILES_FILES = len(SMILES_FILES)\n",
    "N_SMILES_FILES"
   ]
  },
  {
   "cell_type": "markdown",
   "metadata": {},
   "source": [
    "Take a look at the file sizes"
   ]
  },
  {
   "cell_type": "code",
   "execution_count": 8,
   "metadata": {},
   "outputs": [],
   "source": [
    "file_sizes = pd.Series({f.name: f.stat().st_size for f in SMILES_FILES})  # in bytes\n",
    "file_sizes = file_sizes / 1024 / 1024  # in MB"
   ]
  },
  {
   "cell_type": "markdown",
   "metadata": {},
   "source": [
    "File sizes vary significantly:"
   ]
  },
  {
   "cell_type": "code",
   "execution_count": 9,
   "metadata": {},
   "outputs": [
    {
     "data": {
      "text/plain": [
       "count    10456.000000\n",
       "mean         4.167789\n",
       "std         42.681754\n",
       "min          0.000040\n",
       "10%          0.000215\n",
       "25%          0.000958\n",
       "50%          0.008106\n",
       "75%          0.086464\n",
       "90%          0.908896\n",
       "max       1430.434464\n",
       "dtype: float64"
      ]
     },
     "execution_count": 9,
     "metadata": {},
     "output_type": "execute_result"
    }
   ],
   "source": [
    "file_sizes.describe(percentiles=[0.1, 0.25, 0.5, 0.75, 0.9])"
   ]
  },
  {
   "cell_type": "code",
   "execution_count": 10,
   "metadata": {},
   "outputs": [
    {
     "data": {
      "image/png": "[encoded data removed]",
      "text/plain": [
       "<Figure size 640x480 with 1 Axes>"
      ]
     },
     "metadata": {},
     "output_type": "display_data"
    }
   ],
   "source": [
    "ax = sns.kdeplot(data=file_sizes, log_scale=True)\n",
    "ax.set_xlabel(\"SMILES file size (MB)\")\n",
    "plt.show()"
   ]
  },
  {
   "cell_type": "markdown",
   "metadata": {},
   "source": [
    "Calculate total number of molecules (first line may or may not be a header, some molecules may be invalid)"
   ]
  },
  {
   "cell_type": "code",
   "execution_count": 11,
   "metadata": {},
   "outputs": [
    {
     "data": {
      "text/plain": [
       "694449769"
      ]
     },
     "execution_count": 11,
     "metadata": {},
     "output_type": "execute_result"
    }
   ],
   "source": [
    "N_LINES = sum(1 for f in SMILES_FILES for _ in f.read_text().splitlines())\n",
    "N_LINES"
   ]
  },
  {
   "cell_type": "markdown",
   "metadata": {},
   "source": [
    "## Define necessary functions"
   ]
  },
  {
   "cell_type": "markdown",
   "metadata": {},
   "source": [
    "We will use PyTorch's Dataset and DataLoader classes to load molecules in parallel."
   ]
  },
  {
   "cell_type": "code",
   "execution_count": 12,
   "metadata": {},
   "outputs": [],
   "source": [
    "class SmilesDataset(Dataset):\n",
    "    \"\"\"\n",
    "    Dataset of multiple SMILES files. Fingerprints and labels are generated on the fly.\n",
    "    \"\"\"\n",
    "\n",
    "    def __init__(\n",
    "        self,\n",
    "        smi_files: list[Path],\n",
    "        fp_size: int,\n",
    "        fp_radius: int,\n",
    "        fp_fold: int,\n",
    "        n_workers: int = N_WORKERS,\n",
    "        drop_first_line: bool = True,\n",
    "        shuffle: bool = True,\n",
    "        seed: int = 42,\n",
    "    ):\n",
    "        self.smi_files = smi_files\n",
    "        self.n_workers = n_workers\n",
    "        self.drop_first_line = drop_first_line\n",
    "\n",
    "        self.fp_fold = fp_fold\n",
    "        self.fp_size = fp_size\n",
    "        self.fp_radius = fp_radius\n",
    "\n",
    "        # RDKit fingerprint generator cannot be used with ProcessPoolExecutor even as\n",
    "        # a class attribute. It will be created after the dataset is loaded, on first use.\n",
    "        self.fp_gen = None\n",
    "\n",
    "        # Data is stored in memory as a DataFrame\n",
    "        self.shuffle = shuffle\n",
    "        self.seed = seed\n",
    "        self.df = self.load_data()\n",
    "\n",
    "    def __len__(self):\n",
    "        return len(self.df)\n",
    "\n",
    "    def __getitem__(self, idx):\n",
    "        row = self.df.iloc[idx]\n",
    "        label = (row.stem, row.line_no, row.id)\n",
    "        try:\n",
    "            mol = Chem.MolFromSmiles(row.smiles)\n",
    "            fp = self.mol_to_fp(mol)\n",
    "        except Exception:\n",
    "            print(f\"Ignoring SMILES: {row.smiles} {label}\")\n",
    "            fp = None\n",
    "        return fp, label\n",
    "\n",
    "    def mol_to_fp(self, mol):\n",
    "        \"\"\"\n",
    "        Convert RDKit molecule to Morgan fingerprint.\n",
    "        \"\"\"\n",
    "        # Create fingerprint generator on first use\n",
    "        if self.fp_gen is None:\n",
    "            self.fp_gen = rdFingerprintGenerator.GetMorganGenerator(\n",
    "                radius=self.fp_radius, fpSize=self.fp_size\n",
    "            )\n",
    "\n",
    "        fp = self.fp_gen.GetFingerprintAsNumPy(mol)\n",
    "        if self.fp_fold > 1:\n",
    "            fp = np.bitwise_or.reduce(fp.reshape(self.fp_fold, -1))\n",
    "        return np.array(fp, dtype=bool)  # store on CPU\n",
    "\n",
    "    def load_smi_file(self, smi_file):\n",
    "        df = pd.read_csv(\n",
    "            smi_file,\n",
    "            sep=\"\\s\",\n",
    "            names=[\"smiles\", \"id\"],\n",
    "            header=None,\n",
    "        )\n",
    "\n",
    "        if self.drop_first_line:\n",
    "            df.drop(0, inplace=True)\n",
    "\n",
    "        df[\"stem\"] = Path(smi_file).stem\n",
    "        df.reset_index(inplace=True, names=[\"line_no\"])\n",
    "        return df\n",
    "\n",
    "    def load_data(self):\n",
    "        with ProcessPoolExecutor(max_workers=self.n_workers) as executor:\n",
    "            gen = executor.map(self.load_smi_file, self.smi_files)\n",
    "            data = pd.concat(list(gen), ignore_index=True)\n",
    "\n",
    "        if self.shuffle:\n",
    "            data = data.sample(frac=1, random_state=self.seed).reset_index(drop=True)\n",
    "\n",
    "        return data"
   ]
  },
  {
   "cell_type": "code",
   "execution_count": 13,
   "metadata": {},
   "outputs": [],
   "source": [
    "def collate_fn(data):\n",
    "    \"\"\"\n",
    "    Collate fingerprints and labels into a single batch.\n",
    "    \"\"\"\n",
    "    data = filter(lambda fp_and_label: fp_and_label[0] is not None, data)\n",
    "    fps, labels = zip(*data)\n",
    "    fps = np.array(fps, dtype=bool)\n",
    "    return fps, labels"
   ]
  },
  {
   "cell_type": "markdown",
   "metadata": {},
   "source": [
    "## Group files into batches by size"
   ]
  },
  {
   "cell_type": "markdown",
   "metadata": {},
   "source": [
    "To prevent storing all data in memory, files will be grouped into **metabatches** 🫣 of nearly equal size, ensuring that each parallel job completes in approximately the same amount of time.\n",
    "\n",
    "\n",
    "\n",
    "\n",
    "\n"
   ]
  },
  {
   "cell_type": "code",
   "execution_count": 14,
   "metadata": {},
   "outputs": [],
   "source": [
    "SMILES_FILES_METABATCHES = group_files_by_size(SMILES_FILES, 20)"
   ]
  },
  {
   "cell_type": "markdown",
   "metadata": {},
   "source": [
    "Batch sizes in GB:"
   ]
  },
  {
   "cell_type": "code",
   "execution_count": 15,
   "metadata": {},
   "outputs": [
    {
     "data": {
      "text/html": [
       "<div>\n",
       "<style scoped>\n",
       "    .dataframe tbody tr th:only-of-type {\n",
       "        vertical-align: middle;\n",
       "    }\n",
       "\n",
       "    .dataframe tbody tr th {\n",
       "        vertical-align: top;\n",
       "    }\n",
       "\n",
       "    .dataframe thead th {\n",
       "        text-align: right;\n",
       "    }\n",
       "</style>\n",
       "<table border=\"1\" class=\"dataframe\">\n",
       "  <thead>\n",
       "    <tr style=\"text-align: right;\">\n",
       "      <th></th>\n",
       "      <th>n_files</th>\n",
       "      <th>size_GB</th>\n",
       "    </tr>\n",
       "  </thead>\n",
       "  <tbody>\n",
       "    <tr>\n",
       "      <th>0</th>\n",
       "      <td>10018</td>\n",
       "      <td>2.128810</td>\n",
       "    </tr>\n",
       "    <tr>\n",
       "      <th>1</th>\n",
       "      <td>182</td>\n",
       "      <td>2.130854</td>\n",
       "    </tr>\n",
       "    <tr>\n",
       "      <th>2</th>\n",
       "      <td>80</td>\n",
       "      <td>2.138785</td>\n",
       "    </tr>\n",
       "    <tr>\n",
       "      <th>3</th>\n",
       "      <td>46</td>\n",
       "      <td>2.173304</td>\n",
       "    </tr>\n",
       "    <tr>\n",
       "      <th>4</th>\n",
       "      <td>29</td>\n",
       "      <td>2.148427</td>\n",
       "    </tr>\n",
       "    <tr>\n",
       "      <th>5</th>\n",
       "      <td>21</td>\n",
       "      <td>2.129370</td>\n",
       "    </tr>\n",
       "    <tr>\n",
       "      <th>6</th>\n",
       "      <td>17</td>\n",
       "      <td>2.226583</td>\n",
       "    </tr>\n",
       "    <tr>\n",
       "      <th>7</th>\n",
       "      <td>13</td>\n",
       "      <td>2.330579</td>\n",
       "    </tr>\n",
       "    <tr>\n",
       "      <th>8</th>\n",
       "      <td>10</td>\n",
       "      <td>2.267789</td>\n",
       "    </tr>\n",
       "    <tr>\n",
       "      <th>9</th>\n",
       "      <td>8</td>\n",
       "      <td>2.326652</td>\n",
       "    </tr>\n",
       "    <tr>\n",
       "      <th>10</th>\n",
       "      <td>6</td>\n",
       "      <td>2.198281</td>\n",
       "    </tr>\n",
       "    <tr>\n",
       "      <th>11</th>\n",
       "      <td>6</td>\n",
       "      <td>2.573620</td>\n",
       "    </tr>\n",
       "    <tr>\n",
       "      <th>12</th>\n",
       "      <td>5</td>\n",
       "      <td>2.516495</td>\n",
       "    </tr>\n",
       "    <tr>\n",
       "      <th>13</th>\n",
       "      <td>4</td>\n",
       "      <td>2.363636</td>\n",
       "    </tr>\n",
       "    <tr>\n",
       "      <th>14</th>\n",
       "      <td>3</td>\n",
       "      <td>2.390013</td>\n",
       "    </tr>\n",
       "    <tr>\n",
       "      <th>15</th>\n",
       "      <td>3</td>\n",
       "      <td>2.582091</td>\n",
       "    </tr>\n",
       "    <tr>\n",
       "      <th>16</th>\n",
       "      <td>3</td>\n",
       "      <td>3.270275</td>\n",
       "    </tr>\n",
       "    <tr>\n",
       "      <th>17</th>\n",
       "      <td>2</td>\n",
       "      <td>2.661471</td>\n",
       "    </tr>\n",
       "  </tbody>\n",
       "</table>\n",
       "</div>"
      ],
      "text/plain": [
       "    n_files   size_GB\n",
       "0     10018  2.128810\n",
       "1       182  2.130854\n",
       "2        80  2.138785\n",
       "3        46  2.173304\n",
       "4        29  2.148427\n",
       "5        21  2.129370\n",
       "6        17  2.226583\n",
       "7        13  2.330579\n",
       "8        10  2.267789\n",
       "9         8  2.326652\n",
       "10        6  2.198281\n",
       "11        6  2.573620\n",
       "12        5  2.516495\n",
       "13        4  2.363636\n",
       "14        3  2.390013\n",
       "15        3  2.582091\n",
       "16        3  3.270275\n",
       "17        2  2.661471"
      ]
     },
     "execution_count": 15,
     "metadata": {},
     "output_type": "execute_result"
    }
   ],
   "source": [
    "batch_sizes_gb = [\n",
    "    (len(batch), sum(f.stat().st_size for f in batch) / 1024 / 1024 / 1024)\n",
    "    for batch in SMILES_FILES_METABATCHES\n",
    "]\n",
    "\n",
    "pd.DataFrame(batch_sizes_gb, columns=[\"n_files\", \"size_GB\"])"
   ]
  },
  {
   "cell_type": "markdown",
   "metadata": {},
   "source": [
    "Looks good. We need a lot of RAM to store labels and fingerprints. Metabatch size of ~2GB is OK."
   ]
  },
  {
   "cell_type": "markdown",
   "metadata": {},
   "source": [
    "## Pick molecules"
   ]
  },
  {
   "cell_type": "code",
   "execution_count": 16,
   "metadata": {},
   "outputs": [],
   "source": [
    "picker = OnlineDiversityPicker(\n",
    "    capacity=50_000,  # limit the number of picked molecules\n",
    "    k_neighbors=300,\n",
    "    similarity_fn=one_minus_tanimoto,\n",
    "    threshold=0.75,  # distance threshold\n",
    ")"
   ]
  },
  {
   "cell_type": "markdown",
   "metadata": {},
   "source": [
    "Start picking:"
   ]
  },
  {
   "cell_type": "code",
   "execution_count": 17,
   "metadata": {},
   "outputs": [
    {
     "name": "stdout",
     "output_type": "stream",
     "text": [
      "CPU times: user 1d 1h 20min 23s, sys: 5h 25min 24s, total: 1d 6h 45min 48s\n",
      "Wall time: 21h 3min 14s\n"
     ]
    }
   ],
   "source": [
    "%%time\n",
    "\n",
    "# Define progress bars\n",
    "progress_bar_lines = tqdm(total=N_LINES, desc=\"Lines processed: \")\n",
    "progress_bar_accepted = tqdm(total=picker.capacity, desc=\"Were accepted: \")\n",
    "\n",
    "# Iterate over metabatches of SMILES files\n",
    "for smi_files in tqdm(SMILES_FILES_METABATCHES, desc=\"SMILES batch: \"):\n",
    "    # For each metabatch, create a dataset\n",
    "    dataset = SmilesDataset(\n",
    "        smi_files,\n",
    "        fp_size=FINGERPRINT_SIZE,\n",
    "        fp_radius=FINGERPRINT_RADIUS,\n",
    "        fp_fold=FINGERPRINT_FOLD,\n",
    "    )\n",
    "\n",
    "    # ... and a dataloader\n",
    "    dataloader = DataLoader(\n",
    "        dataset,\n",
    "        batch_size=BATCH_SIZE,\n",
    "        num_workers=N_WORKERS,\n",
    "        collate_fn=collate_fn,\n",
    "    )\n",
    "\n",
    "    # Iterate over batches of fingerprints and corresponding labels\n",
    "    for fps, labels in dataloader:\n",
    "        # Pass fingerprints to the picker\n",
    "        fps = jnp.array(fps, dtype=bool)\n",
    "        n_accepted = picker.update(fps, labels)\n",
    "\n",
    "        # Update progress bars\n",
    "        progress_bar_lines.update(len(fps))  # some lines may be skipped due to errors\n",
    "        progress_bar_accepted.update(\n",
    "            n_accepted\n",
    "        )  # accepted points may be overwritten later"
   ]
  },
  {
   "cell_type": "markdown",
   "metadata": {},
   "source": [
    "## Save results"
   ]
  },
  {
   "cell_type": "markdown",
   "metadata": {},
   "source": [
    "OK. We've finished. Let's save the results"
   ]
  },
  {
   "cell_type": "code",
   "execution_count": null,
   "metadata": {},
   "outputs": [],
   "source": [
    "labels_picked = pd.DataFrame(picker.labels, columns=[\"file_stem\", \"line_no\", \"id\"])\n",
    "labels_picked.to_hdf(\"labels_picked.h5\", \"labels_picked\")"
   ]
  },
  {
   "cell_type": "markdown",
   "metadata": {},
   "source": [
    "## What's next?"
   ]
  },
  {
   "cell_type": "markdown",
   "metadata": {},
   "source": [
    "Chosen parameters and strategy could be improved."
   ]
  },
  {
   "cell_type": "markdown",
   "metadata": {},
   "source": [
    "1. Shuffle the molecules before picking to avoid selecting similar molecules consecutively, which ensures better picker initialization.\n",
    "2. Lower the threshold to select more molecules, which can (theoretically) increase diversity, you then can run the picker again with smaller capacity to remove the excess.\n",
    "3. Decrease the picker capacity if you are working with a non-diverse dataset; this can also increase speed."
   ]
  }
 ],
 "metadata": {
  "kernelspec": {
   "display_name": ".venv",
   "language": "python",
   "name": "python3"
  },
  "language_info": {
   "codemirror_mode": {
    "name": "ipython",
    "version": 3
   },
   "file_extension": ".py",
   "mimetype": "text/x-python",
   "name": "python",
   "nbconvert_exporter": "python",
   "pygments_lexer": "ipython3",
   "version": "3.11.6"
  },
  "orig_nbformat": 4
 },
 "nbformat": 4,
 "nbformat_minor": 2
}
